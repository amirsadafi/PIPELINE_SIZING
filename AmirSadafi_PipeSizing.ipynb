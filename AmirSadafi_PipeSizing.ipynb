{
 "cells": [
  {
   "cell_type": "code",
   "execution_count": 2,
   "metadata": {},
   "outputs": [],
   "source": [
    "import math\n",
    "\n",
    "def pipeline_sizing(mass_flow_rate, density, viscosity, pipe_length, max_pressure_drop, max_velocity):\n",
    "    \"\"\"\n",
    "    Perform pipeline sizing based on engineering procedures.\n",
    "\n",
    "    Parameters:\n",
    "        mass_flow_rate (float): Mass flow rate (kg/s).\n",
    "        density (float): Fluid density (kg/m^3).\n",
    "        viscosity (float): Fluid dynamic viscosity (Pa.s).\n",
    "        pipe_length (float): Length of the pipeline (m).\n",
    "        max_pressure_drop (float): Maximum allowable pressure drop (Pa).\n",
    "        max_velocity (float): Maximum allowable velocity (m/s).\n",
    "\n",
    "    Returns:\n",
    "        dict: Contains the calculated parameters (pipe diameter, velocity, Reynolds number, friction factor, pressure drop).\n",
    "    \"\"\"\n",
    "\n",
    "    def reynolds_number(diameter, velocity):\n",
    "        return (density * velocity * diameter) / viscosity\n",
    "\n",
    "    def darcy_weisbach_friction_factor(re):\n",
    "        if re < 2000:\n",
    "            # Laminar flow\n",
    "            return 64 / re\n",
    "        else:\n",
    "            # Turbulent flow (approximation using Blasius equation)\n",
    "            return 0.3164 / (re ** 0.25)\n",
    "\n",
    "    def pressure_drop(friction_factor, velocity, diameter):\n",
    "        return friction_factor * (pipe_length / diameter) * (density * velocity**2 / 2)\n",
    "\n",
    "    # Start sizing\n",
    "    diameter = 0.05  # Initial guess for diameter in meters\n",
    "    velocity = 0\n",
    "    re = 0\n",
    "    friction_factor = 0\n",
    "    dp = 0\n",
    "\n",
    "    while True:\n",
    "        # Calculate velocity from the continuity equation\n",
    "        area = math.pi * (diameter / 2) ** 2\n",
    "        velocity = mass_flow_rate / (density * area)\n",
    "\n",
    "        if velocity > max_velocity:\n",
    "            # Increase diameter if velocity exceeds the maximum\n",
    "            diameter += 0.01\n",
    "            continue\n",
    "\n",
    "        # Calculate Reynolds number\n",
    "        re = reynolds_number(diameter, velocity)\n",
    "\n",
    "        # Calculate friction factor\n",
    "        friction_factor = darcy_weisbach_friction_factor(re)\n",
    "\n",
    "        # Calculate pressure drop\n",
    "        dp = pressure_drop(friction_factor, velocity, diameter)\n",
    "\n",
    "        if dp > max_pressure_drop:\n",
    "            # Increase diameter if pressure drop exceeds the maximum\n",
    "            diameter += 0.01\n",
    "            continue\n",
    "\n",
    "        # Check if all conditions are satisfied\n",
    "        if velocity <= max_velocity and dp <= max_pressure_drop:\n",
    "            break\n",
    "\n",
    "    return {\n",
    "        \"Pipe Diameter (m)\": diameter,\n",
    "        \"Velocity (m/s)\": velocity,\n",
    "        \"Reynolds Number\": re,\n",
    "        \"Friction Factor\": friction_factor,\n",
    "        \"Pressure Drop (Pa)\": dp,\n",
    "    }\n",
    "\n"
   ]
  },
  {
   "cell_type": "code",
   "execution_count": 3,
   "metadata": {},
   "outputs": [
    {
     "name": "stdout",
     "output_type": "stream",
     "text": [
      "Pipe Diameter (m): 0.05\n",
      "Velocity (m/s): 1.0185916357881302\n",
      "Reynolds Number: 50929.58178940651\n",
      "Friction Factor: 0.021061725455322165\n",
      "Pressure Drop (Pa): 10926.07463773797\n"
     ]
    }
   ],
   "source": [
    "result = pipeline_sizing(\n",
    "    mass_flow_rate=2.0,  # kg/s\n",
    "    density=1000.0,      # kg/m^3\n",
    "    viscosity=0.001,     # Pa.s\n",
    "    pipe_length=50.0,    # m\n",
    "    max_pressure_drop=50000.0,  # Pa\n",
    "    max_velocity=3.0     # m/s\n",
    ")\n",
    "\n",
    "for key, value in result.items():\n",
    "    print(f\"{key}: {value}\")\n"
   ]
  }
 ],
 "metadata": {
  "kernelspec": {
   "display_name": "Python 3",
   "language": "python",
   "name": "python3"
  },
  "language_info": {
   "codemirror_mode": {
    "name": "ipython",
    "version": 3
   },
   "file_extension": ".py",
   "mimetype": "text/x-python",
   "name": "python",
   "nbconvert_exporter": "python",
   "pygments_lexer": "ipython3",
   "version": "3.9.6"
  }
 },
 "nbformat": 4,
 "nbformat_minor": 2
}
